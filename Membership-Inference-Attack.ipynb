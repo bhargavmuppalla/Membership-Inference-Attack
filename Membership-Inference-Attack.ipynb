{
  "nbformat": 4,
  "nbformat_minor": 0,
  "metadata": {
    "colab": {
      "provenance": [],
      "collapsed_sections": [
        "FEf1x9bVDctK",
        "Z03j6jl9DiMo",
        "ArUXSeTbEEFw",
        "w57FAkHVEe9p",
        "Xhfg333SGatq",
        "Uf0C1TgiHTM0",
        "WmqdeWtHH6rC",
        "J1lGxJBuLtvz",
        "M4SuT-G8MAub"
      ]
    },
    "kernelspec": {
      "name": "python3",
      "display_name": "Python 3"
    },
    "language_info": {
      "name": "python"
    },
    "gpuClass": "standard"
  },
  "cells": [
    {
      "cell_type": "markdown",
      "source": [
        "## 1 Import some lib for further use"
      ],
      "metadata": {
        "id": "yuXHj5qz3KP3"
      }
    },
    {
      "cell_type": "code",
      "execution_count": null,
      "metadata": {
        "id": "4zvOVFKT1hU9"
      },
      "outputs": [],
      "source": [
        "# general imports\n",
        "import numpy as np\n",
        "import matplotlib.pyplot as plt\n",
        "import tensorflow as tf"
      ]
    },
    {
      "cell_type": "markdown",
      "source": [
        "## 2 Introduce the target model"
      ],
      "metadata": {
        "id": "BtwPbEhn3iht"
      }
    },
    {
      "cell_type": "code",
      "source": [
        "target_model=tf.keras.models.load_model(\"/content/trained_target_model.h5\")"
      ],
      "metadata": {
        "id": "PWXa9sjB3hzt"
      },
      "execution_count": null,
      "outputs": []
    },
    {
      "cell_type": "markdown",
      "source": [
        "## 2a See the structure of target model, takes image, output vector (10,)"
      ],
      "metadata": {
        "id": "M5U4lUIL4AKe"
      }
    },
    {
      "cell_type": "code",
      "source": [
        "target_model.summary()"
      ],
      "metadata": {
        "id": "D1_UXAv73_yO"
      },
      "execution_count": null,
      "outputs": []
    },
    {
      "cell_type": "markdown",
      "source": [
        "1st layer: Conv layer + Max Pooling\n",
        "\n",
        "2nd layer: Conv layer + Max Pooling\n",
        "\n",
        "3rd layer: Fully Conn (256 * 128)\n",
        "\n",
        "4th layer: Fully COon (128 * 10)"
      ],
      "metadata": {
        "id": "_I--gI8n4Qye"
      }
    },
    {
      "cell_type": "markdown",
      "source": [
        "## 3 Load some data from .npy files"
      ],
      "metadata": {
        "id": "nsxPUIWE5cBO"
      }
    },
    {
      "cell_type": "code",
      "source": [
        "p_train_data=np.load(\"/content/train_data_partial.npy\")"
      ],
      "metadata": {
        "id": "VQv_ACv-5F5G"
      },
      "execution_count": null,
      "outputs": []
    },
    {
      "cell_type": "markdown",
      "source": [
        "## 3a What is data look like?"
      ],
      "metadata": {
        "id": "Xkot9Pf752pO"
      }
    },
    {
      "cell_type": "code",
      "source": [
        "#p_train_data.shape"
      ],
      "metadata": {
        "id": "cOi4Pc8d52MG"
      },
      "execution_count": null,
      "outputs": []
    },
    {
      "cell_type": "code",
      "source": [
        "# show some train data: first 10 data\n",
        "def show_data(image_data):\n",
        "        num_row = 2\n",
        "        num_col = 5\n",
        "        fig, axes = plt.subplots(num_row, num_col, figsize=(1.5*num_col,2*num_row))\n",
        "        for i in range(10):\n",
        "            ax = axes[i//num_col, i%num_col]\n",
        "            ax.set_axis_off()\n",
        "            ax.imshow(image_data[i])\n",
        "\n",
        "        plt.tight_layout()\n",
        "        plt.show()\n",
        "\n",
        "class_names = ['airplane', 'automobile', 'bird', 'cat', 'deer',\n",
        "               'dog', 'frog', 'horse', 'ship', 'truck']"
      ],
      "metadata": {
        "id": "LFY3h6f56F-l"
      },
      "execution_count": null,
      "outputs": []
    },
    {
      "cell_type": "markdown",
      "source": [
        "## 3b Print some data to SEE"
      ],
      "metadata": {
        "id": "Xobamfyz_8Ah"
      }
    },
    {
      "cell_type": "code",
      "source": [
        "show_data(p_train_data)"
      ],
      "metadata": {
        "id": "yg0pYYme9Fwf"
      },
      "execution_count": null,
      "outputs": []
    },
    {
      "cell_type": "markdown",
      "source": [
        "## 3c Labels of the data"
      ],
      "metadata": {
        "id": "XFP-7h0lAC8w"
      }
    },
    {
      "cell_type": "code",
      "source": [
        "p_train_labels=np.load(\"/content/train_labels_partial.npy\")"
      ],
      "metadata": {
        "id": "LQm0drSK6yGP"
      },
      "execution_count": null,
      "outputs": []
    },
    {
      "cell_type": "code",
      "source": [
        "p_train_labels.shape"
      ],
      "metadata": {
        "id": "567u-eVl6-6O"
      },
      "execution_count": null,
      "outputs": []
    },
    {
      "cell_type": "code",
      "source": [
        "p_train_labels"
      ],
      "metadata": {
        "id": "ARJsTvtVAqro"
      },
      "execution_count": null,
      "outputs": []
    },
    {
      "cell_type": "markdown",
      "source": [
        "## 3d Data labels by names"
      ],
      "metadata": {
        "id": "DhGNY-WDAjvI"
      }
    },
    {
      "cell_type": "code",
      "source": [
        "first_10_labels=p_train_labels[:10]\n",
        "for idx in first_10_labels:\n",
        "    print(class_names[idx])"
      ],
      "metadata": {
        "id": "CyuWaLE4656P"
      },
      "execution_count": null,
      "outputs": []
    },
    {
      "cell_type": "markdown",
      "source": [
        "## 4 How the model work? Model(data)=output"
      ],
      "metadata": {
        "id": "ko1JnDFmAug4"
      }
    },
    {
      "cell_type": "markdown",
      "source": [
        "### 4a Prepare random data for test"
      ],
      "metadata": {
        "id": "FEf1x9bVDctK"
      }
    },
    {
      "cell_type": "code",
      "source": [
        "rand_idx=np.random.randint(0,10000, (100,))"
      ],
      "metadata": {
        "id": "IQftGyMA7ttH"
      },
      "execution_count": null,
      "outputs": []
    },
    {
      "cell_type": "code",
      "source": [
        "rand_data=p_train_data[rand_idx]"
      ],
      "metadata": {
        "id": "CYnIIcjz8X7W"
      },
      "execution_count": null,
      "outputs": []
    },
    {
      "cell_type": "code",
      "source": [
        "show_data(rand_data)"
      ],
      "metadata": {
        "id": "SeL2lrYY9JcI"
      },
      "execution_count": null,
      "outputs": []
    },
    {
      "cell_type": "markdown",
      "source": [
        "### 4b Get labels as groundtruth of random data"
      ],
      "metadata": {
        "id": "Z03j6jl9DiMo"
      }
    },
    {
      "cell_type": "code",
      "source": [
        "first_10_labels=p_train_labels[rand_idx]\n",
        "print(first_10_labels)\n",
        "for idx in first_10_labels:\n",
        "    print(class_names[idx])"
      ],
      "metadata": {
        "id": "6RTd5JBm9Ni3"
      },
      "execution_count": null,
      "outputs": []
    },
    {
      "cell_type": "markdown",
      "source": [
        "## 4c Use target model to predict random data?"
      ],
      "metadata": {
        "id": "Qn_NqtvrBK3_"
      }
    },
    {
      "cell_type": "code",
      "source": [
        "prediction=target_model(rand_data)"
      ],
      "metadata": {
        "id": "MGHA0RUy9q0f"
      },
      "execution_count": null,
      "outputs": []
    },
    {
      "cell_type": "code",
      "source": [
        "prediction.shape"
      ],
      "metadata": {
        "id": "GIgqifGYBXLX"
      },
      "execution_count": null,
      "outputs": []
    },
    {
      "cell_type": "code",
      "source": [
        "prediction[1]"
      ],
      "metadata": {
        "id": "jPeKpoeCCTXo",
        "colab": {
          "base_uri": "https://localhost:8080/"
        },
        "outputId": "a8fa268b-99f2-4028-aaed-ab050c4c4b23"
      },
      "execution_count": null,
      "outputs": [
        {
          "output_type": "execute_result",
          "data": {
            "text/plain": [
              "<tf.Tensor: shape=(10,), dtype=float32, numpy=\n",
              "array([ -4.2143583,  -9.740183 ,   1.2927963,  -1.5680918,   0.7099859,\n",
              "        -4.244934 ,  10.501431 ,  -8.168477 ,  -8.988067 , -11.414565 ],\n",
              "      dtype=float32)>"
            ]
          },
          "metadata": {},
          "execution_count": 18
        }
      ]
    },
    {
      "cell_type": "markdown",
      "source": [
        "### 4d What is the predicted label?"
      ],
      "metadata": {
        "id": "ArUXSeTbEEFw"
      }
    },
    {
      "cell_type": "code",
      "source": [
        "predict_label=tf.math.argmax(prediction, axis=1)\n",
        "print(predict_label)"
      ],
      "metadata": {
        "id": "RQuF1zFBCX5g"
      },
      "execution_count": null,
      "outputs": []
    },
    {
      "cell_type": "code",
      "source": [
        "for idx in predict_label:\n",
        "    print(class_names[idx])"
      ],
      "metadata": {
        "id": "WJ1qPTO-EMhR"
      },
      "execution_count": null,
      "outputs": []
    },
    {
      "cell_type": "markdown",
      "source": [
        "### 4e Accuracy of prediction on the 10 test samples"
      ],
      "metadata": {
        "id": "w57FAkHVEe9p"
      }
    },
    {
      "cell_type": "code",
      "source": [
        "pred_accuracy=sum(first_10_labels==predict_label.numpy())/len(first_10_labels)\n",
        "print(pred_accuracy)"
      ],
      "metadata": {
        "id": "fZf1-EeqCtGg",
        "colab": {
          "base_uri": "https://localhost:8080/"
        },
        "outputId": "5da62432-1ac9-4d9a-b846-b92fc2e2f8df"
      },
      "execution_count": null,
      "outputs": [
        {
          "output_type": "stream",
          "name": "stdout",
          "text": [
            "0.93\n"
          ]
        }
      ]
    },
    {
      "cell_type": "markdown",
      "source": [
        "============================================================="
      ],
      "metadata": {
        "id": "IKkkSaL3Eswy"
      }
    },
    {
      "cell_type": "markdown",
      "source": [
        "## Attack preparation\n",
        "\n",
        "### 1 Load training data, the members (We have done)\n",
        "### 2 Load testing data, the non-members\n",
        "### 3 Input member and non-members into target model\n",
        "### 4 Get statistics for training your attack model"
      ],
      "metadata": {
        "id": "5a3aQ6q1EvcS"
      }
    },
    {
      "cell_type": "markdown",
      "source": [
        "### 1 "
      ],
      "metadata": {
        "id": "Xhfg333SGatq"
      }
    },
    {
      "cell_type": "code",
      "source": [
        "# p_train_data=np.load(\"/content/train_data_partial.npy\")\n",
        "# p_train_data is the training data, we call \"Members\""
      ],
      "metadata": {
        "id": "MOp4gZJnEuuj"
      },
      "execution_count": null,
      "outputs": []
    },
    {
      "cell_type": "markdown",
      "source": [
        "### 2"
      ],
      "metadata": {
        "id": "Uf0C1TgiHTM0"
      }
    },
    {
      "cell_type": "code",
      "source": [
        "p_test_data=np.load(\"/content/test_data_partial.npy\")\n",
        "p_test_data"
      ],
      "metadata": {
        "id": "VLx7kUsXGxPp",
        "colab": {
          "base_uri": "https://localhost:8080/"
        },
        "outputId": "a6940778-59b7-4053-8209-defa785263b6"
      },
      "execution_count": null,
      "outputs": [
        {
          "output_type": "execute_result",
          "data": {
            "text/plain": [
              "array([[[[0.61960787, 0.4392157 , 0.19215687],\n",
              "         [0.62352943, 0.43529412, 0.18431373],\n",
              "         [0.64705884, 0.45490196, 0.2       ],\n",
              "         ...,\n",
              "         [0.5372549 , 0.37254903, 0.14117648],\n",
              "         [0.49411765, 0.35686275, 0.14117648],\n",
              "         [0.45490196, 0.33333334, 0.12941177]],\n",
              "\n",
              "        [[0.59607846, 0.4392157 , 0.2       ],\n",
              "         [0.5921569 , 0.43137255, 0.15686275],\n",
              "         [0.62352943, 0.44705883, 0.1764706 ],\n",
              "         ...,\n",
              "         [0.53333336, 0.37254903, 0.12156863],\n",
              "         [0.49019608, 0.35686275, 0.1254902 ],\n",
              "         [0.46666667, 0.34509805, 0.13333334]],\n",
              "\n",
              "        [[0.5921569 , 0.43137255, 0.18431373],\n",
              "         [0.5921569 , 0.42745098, 0.12941177],\n",
              "         [0.61960787, 0.43529412, 0.14117648],\n",
              "         ...,\n",
              "         [0.54509807, 0.38431373, 0.13333334],\n",
              "         [0.50980395, 0.37254903, 0.13333334],\n",
              "         [0.47058824, 0.34901962, 0.12941177]],\n",
              "\n",
              "        ...,\n",
              "\n",
              "        [[0.26666668, 0.4862745 , 0.69411767],\n",
              "         [0.16470589, 0.39215687, 0.5803922 ],\n",
              "         [0.12156863, 0.34509805, 0.5372549 ],\n",
              "         ...,\n",
              "         [0.14901961, 0.38039216, 0.57254905],\n",
              "         [0.05098039, 0.2509804 , 0.42352942],\n",
              "         [0.15686275, 0.33333334, 0.49803922]],\n",
              "\n",
              "        [[0.23921569, 0.45490196, 0.65882355],\n",
              "         [0.19215687, 0.4       , 0.5803922 ],\n",
              "         [0.13725491, 0.33333334, 0.5176471 ],\n",
              "         ...,\n",
              "         [0.10196079, 0.32156864, 0.50980395],\n",
              "         [0.11372549, 0.32156864, 0.49411765],\n",
              "         [0.07843138, 0.2509804 , 0.41960785]],\n",
              "\n",
              "        [[0.21176471, 0.41960785, 0.627451  ],\n",
              "         [0.21960784, 0.4117647 , 0.58431375],\n",
              "         [0.1764706 , 0.34901962, 0.5176471 ],\n",
              "         ...,\n",
              "         [0.09411765, 0.3019608 , 0.4862745 ],\n",
              "         [0.13333334, 0.32941177, 0.5058824 ],\n",
              "         [0.08235294, 0.2627451 , 0.43137255]]],\n",
              "\n",
              "\n",
              "       [[[0.92156863, 0.92156863, 0.92156863],\n",
              "         [0.90588236, 0.90588236, 0.90588236],\n",
              "         [0.9098039 , 0.9098039 , 0.9098039 ],\n",
              "         ...,\n",
              "         [0.9137255 , 0.9137255 , 0.9137255 ],\n",
              "         [0.9137255 , 0.9137255 , 0.9137255 ],\n",
              "         [0.9098039 , 0.9098039 , 0.9098039 ]],\n",
              "\n",
              "        [[0.93333334, 0.93333334, 0.93333334],\n",
              "         [0.92156863, 0.92156863, 0.92156863],\n",
              "         [0.92156863, 0.92156863, 0.92156863],\n",
              "         ...,\n",
              "         [0.9254902 , 0.9254902 , 0.9254902 ],\n",
              "         [0.9254902 , 0.9254902 , 0.9254902 ],\n",
              "         [0.92156863, 0.92156863, 0.92156863]],\n",
              "\n",
              "        [[0.92941177, 0.92941177, 0.92941177],\n",
              "         [0.91764706, 0.91764706, 0.91764706],\n",
              "         [0.91764706, 0.91764706, 0.91764706],\n",
              "         ...,\n",
              "         [0.92156863, 0.92156863, 0.92156863],\n",
              "         [0.92156863, 0.92156863, 0.92156863],\n",
              "         [0.91764706, 0.91764706, 0.91764706]],\n",
              "\n",
              "        ...,\n",
              "\n",
              "        [[0.34117648, 0.3882353 , 0.34901962],\n",
              "         [0.16862746, 0.2       , 0.14509805],\n",
              "         [0.07450981, 0.09019608, 0.04313726],\n",
              "         ...,\n",
              "         [0.6627451 , 0.72156864, 0.7019608 ],\n",
              "         [0.7137255 , 0.77254903, 0.75686276],\n",
              "         [0.7372549 , 0.7921569 , 0.7882353 ]],\n",
              "\n",
              "        [[0.32156864, 0.3764706 , 0.32156864],\n",
              "         [0.18039216, 0.22352941, 0.14117648],\n",
              "         [0.14117648, 0.17254902, 0.08627451],\n",
              "         ...,\n",
              "         [0.68235296, 0.7411765 , 0.7176471 ],\n",
              "         [0.7254902 , 0.78431374, 0.76862746],\n",
              "         [0.73333335, 0.7921569 , 0.78431374]],\n",
              "\n",
              "        [[0.33333334, 0.39607844, 0.3254902 ],\n",
              "         [0.24313726, 0.29411766, 0.1882353 ],\n",
              "         [0.22745098, 0.2627451 , 0.14901961],\n",
              "         ...,\n",
              "         [0.65882355, 0.7176471 , 0.69803923],\n",
              "         [0.7058824 , 0.7647059 , 0.7490196 ],\n",
              "         [0.7294118 , 0.78431374, 0.78039217]]],\n",
              "\n",
              "\n",
              "       [[[0.61960787, 0.74509805, 0.87058824],\n",
              "         [0.61960787, 0.73333335, 0.85490197],\n",
              "         [0.54509807, 0.6509804 , 0.7607843 ],\n",
              "         ...,\n",
              "         [0.89411765, 0.90588236, 0.91764706],\n",
              "         [0.92941177, 0.9372549 , 0.9529412 ],\n",
              "         [0.93333334, 0.94509804, 0.9647059 ]],\n",
              "\n",
              "        [[0.6666667 , 0.78431374, 0.8980392 ],\n",
              "         [0.6745098 , 0.78039217, 0.8862745 ],\n",
              "         [0.5921569 , 0.6901961 , 0.7882353 ],\n",
              "         ...,\n",
              "         [0.9098039 , 0.9098039 , 0.9254902 ],\n",
              "         [0.9647059 , 0.9647059 , 0.98039216],\n",
              "         [0.9647059 , 0.96862745, 0.9843137 ]],\n",
              "\n",
              "        [[0.68235296, 0.7882353 , 0.88235295],\n",
              "         [0.6901961 , 0.78431374, 0.87058824],\n",
              "         [0.6156863 , 0.7019608 , 0.78039217],\n",
              "         ...,\n",
              "         [0.9019608 , 0.8980392 , 0.9098039 ],\n",
              "         [0.98039216, 0.9764706 , 0.9843137 ],\n",
              "         [0.9607843 , 0.95686275, 0.96862745]],\n",
              "\n",
              "        ...,\n",
              "\n",
              "        [[0.12156863, 0.15686275, 0.1764706 ],\n",
              "         [0.11764706, 0.15294118, 0.17254902],\n",
              "         [0.10196079, 0.13725491, 0.15686275],\n",
              "         ...,\n",
              "         [0.14509805, 0.15686275, 0.18039216],\n",
              "         [0.03529412, 0.05098039, 0.05490196],\n",
              "         [0.01568628, 0.02745098, 0.01960784]],\n",
              "\n",
              "        [[0.09019608, 0.13333334, 0.15294118],\n",
              "         [0.10588235, 0.14901961, 0.16862746],\n",
              "         [0.09803922, 0.14117648, 0.16078432],\n",
              "         ...,\n",
              "         [0.07450981, 0.07843138, 0.09411765],\n",
              "         [0.01568628, 0.02352941, 0.01176471],\n",
              "         [0.01960784, 0.02745098, 0.01176471]],\n",
              "\n",
              "        [[0.10980392, 0.16078432, 0.18431373],\n",
              "         [0.11764706, 0.16862746, 0.19607843],\n",
              "         [0.1254902 , 0.1764706 , 0.20392157],\n",
              "         ...,\n",
              "         [0.01960784, 0.02352941, 0.03137255],\n",
              "         [0.01568628, 0.01960784, 0.01176471],\n",
              "         [0.02745098, 0.03137255, 0.02745098]]],\n",
              "\n",
              "\n",
              "       ...,\n",
              "\n",
              "\n",
              "       [[[0.8392157 , 0.8745098 , 0.9098039 ],\n",
              "         [0.84705883, 0.8784314 , 0.9137255 ],\n",
              "         [0.85882354, 0.8862745 , 0.9254902 ],\n",
              "         ...,\n",
              "         [0.99215686, 0.99215686, 0.99215686],\n",
              "         [0.99215686, 0.99215686, 0.99215686],\n",
              "         [0.9882353 , 0.99215686, 0.9882353 ]],\n",
              "\n",
              "        [[0.8627451 , 0.8980392 , 0.93333334],\n",
              "         [0.8784314 , 0.9098039 , 0.94509804],\n",
              "         [0.89411765, 0.92156863, 0.9647059 ],\n",
              "         ...,\n",
              "         [1.        , 1.        , 1.        ],\n",
              "         [1.        , 1.        , 1.        ],\n",
              "         [1.        , 1.        , 1.        ]],\n",
              "\n",
              "        [[0.87058824, 0.9098039 , 0.94509804],\n",
              "         [0.8862745 , 0.92156863, 0.95686275],\n",
              "         [0.8980392 , 0.93333334, 0.96862745],\n",
              "         ...,\n",
              "         [0.99607843, 0.99607843, 0.99607843],\n",
              "         [0.99607843, 0.99607843, 0.99607843],\n",
              "         [0.99607843, 0.99607843, 0.99607843]],\n",
              "\n",
              "        ...,\n",
              "\n",
              "        [[0.7529412 , 0.78039217, 0.80784315],\n",
              "         [0.77254903, 0.79607844, 0.83137256],\n",
              "         [0.78431374, 0.80784315, 0.8392157 ],\n",
              "         ...,\n",
              "         [0.6745098 , 0.627451  , 0.62352943],\n",
              "         [0.49803922, 0.40784314, 0.34117648],\n",
              "         [0.5254902 , 0.4392157 , 0.3372549 ]],\n",
              "\n",
              "        [[0.74509805, 0.76862746, 0.79607844],\n",
              "         [0.76862746, 0.79607844, 0.827451  ],\n",
              "         [0.78431374, 0.80784315, 0.8392157 ],\n",
              "         ...,\n",
              "         [0.47843137, 0.4       , 0.3529412 ],\n",
              "         [0.44313726, 0.3529412 , 0.26666668],\n",
              "         [0.5254902 , 0.45490196, 0.36862746]],\n",
              "\n",
              "        [[0.7137255 , 0.73333335, 0.7529412 ],\n",
              "         [0.7372549 , 0.7607843 , 0.78431374],\n",
              "         [0.7607843 , 0.7764706 , 0.8       ],\n",
              "         ...,\n",
              "         [0.3882353 , 0.31764707, 0.27058825],\n",
              "         [0.39215687, 0.32156864, 0.25882354],\n",
              "         [0.5019608 , 0.4392157 , 0.37254903]]],\n",
              "\n",
              "\n",
              "       [[[0.09411765, 0.10588235, 0.14117648],\n",
              "         [0.10588235, 0.11764706, 0.15294118],\n",
              "         [0.12941177, 0.14117648, 0.1764706 ],\n",
              "         ...,\n",
              "         [0.08235294, 0.05882353, 0.10588235],\n",
              "         [0.09019608, 0.06666667, 0.11372549],\n",
              "         [0.11372549, 0.09411765, 0.11764706]],\n",
              "\n",
              "        [[0.10196079, 0.11372549, 0.14901961],\n",
              "         [0.09803922, 0.10980392, 0.14509805],\n",
              "         [0.11372549, 0.1254902 , 0.16078432],\n",
              "         ...,\n",
              "         [0.07450981, 0.05098039, 0.09803922],\n",
              "         [0.07450981, 0.05098039, 0.09803922],\n",
              "         [0.10196079, 0.08235294, 0.10588235]],\n",
              "\n",
              "        [[0.1254902 , 0.13725491, 0.17254902],\n",
              "         [0.09411765, 0.10588235, 0.14117648],\n",
              "         [0.10980392, 0.12156863, 0.15686275],\n",
              "         ...,\n",
              "         [0.06666667, 0.04313726, 0.09019608],\n",
              "         [0.06666667, 0.04313726, 0.09411765],\n",
              "         [0.09411765, 0.07058824, 0.09803922]],\n",
              "\n",
              "        ...,\n",
              "\n",
              "        [[0.19607843, 0.17254902, 0.16862746],\n",
              "         [0.21568628, 0.18039216, 0.16470589],\n",
              "         [0.24705882, 0.19215687, 0.16862746],\n",
              "         ...,\n",
              "         [0.42745098, 0.34901962, 0.30588236],\n",
              "         [0.4       , 0.3372549 , 0.31764707],\n",
              "         [0.38431373, 0.32941177, 0.32156864]],\n",
              "\n",
              "        [[0.20784314, 0.19215687, 0.19215687],\n",
              "         [0.28627452, 0.25490198, 0.24705882],\n",
              "         [0.41960785, 0.37254903, 0.3529412 ],\n",
              "         ...,\n",
              "         [0.4745098 , 0.41960785, 0.36862746],\n",
              "         [0.47843137, 0.40784314, 0.38039216],\n",
              "         [0.47058824, 0.40392157, 0.38039216]],\n",
              "\n",
              "        [[0.38431373, 0.34117648, 0.32156864],\n",
              "         [0.4862745 , 0.42745098, 0.39607844],\n",
              "         [0.56078434, 0.48235294, 0.44313726],\n",
              "         ...,\n",
              "         [0.5372549 , 0.46666667, 0.43137255],\n",
              "         [0.49803922, 0.41960785, 0.39215687],\n",
              "         [0.49411765, 0.41960785, 0.39215687]]],\n",
              "\n",
              "\n",
              "       [[[0.4627451 , 0.4117647 , 0.3882353 ],\n",
              "         [0.46666667, 0.41568628, 0.39215687],\n",
              "         [0.4862745 , 0.43529412, 0.40784314],\n",
              "         ...,\n",
              "         [0.73333335, 0.44313726, 0.24313726],\n",
              "         [0.5568628 , 0.2509804 , 0.07450981],\n",
              "         [0.6       , 0.29411766, 0.11764706]],\n",
              "\n",
              "        [[0.44705883, 0.39607844, 0.37254903],\n",
              "         [0.44313726, 0.39607844, 0.37254903],\n",
              "         [0.4509804 , 0.39607844, 0.36862746],\n",
              "         ...,\n",
              "         [0.5764706 , 0.24705882, 0.10588235],\n",
              "         [0.54901963, 0.25490198, 0.06666667],\n",
              "         [0.63529414, 0.35686275, 0.14901961]],\n",
              "\n",
              "        [[0.43529412, 0.38431373, 0.36078432],\n",
              "         [0.43529412, 0.38431373, 0.36078432],\n",
              "         [0.43529412, 0.3882353 , 0.35686275],\n",
              "         ...,\n",
              "         [0.49411765, 0.2       , 0.05490196],\n",
              "         [0.6039216 , 0.36078432, 0.13725491],\n",
              "         [0.7058824 , 0.46666667, 0.22745098]],\n",
              "\n",
              "        ...,\n",
              "\n",
              "        [[0.36078432, 0.31764707, 0.32156864],\n",
              "         [0.36078432, 0.32156864, 0.3254902 ],\n",
              "         [0.36078432, 0.32156864, 0.3137255 ],\n",
              "         ...,\n",
              "         [0.29803923, 0.2627451 , 0.23529412],\n",
              "         [0.3019608 , 0.26666668, 0.23921569],\n",
              "         [0.29411766, 0.25882354, 0.23529412]],\n",
              "\n",
              "        [[0.32941177, 0.3019608 , 0.3019608 ],\n",
              "         [0.3372549 , 0.30980393, 0.30980393],\n",
              "         [0.34117648, 0.3137255 , 0.30980393],\n",
              "         ...,\n",
              "         [0.31764707, 0.2784314 , 0.25490198],\n",
              "         [0.3137255 , 0.2784314 , 0.2509804 ],\n",
              "         [0.30588236, 0.26666668, 0.24705882]],\n",
              "\n",
              "        [[0.34509805, 0.32941177, 0.27058825],\n",
              "         [0.32941177, 0.31764707, 0.25882354],\n",
              "         [0.32156864, 0.30588236, 0.25490198],\n",
              "         ...,\n",
              "         [0.34117648, 0.30588236, 0.27058825],\n",
              "         [0.3372549 , 0.30588236, 0.27058825],\n",
              "         [0.32941177, 0.29411766, 0.2627451 ]]]], dtype=float32)"
            ]
          },
          "metadata": {},
          "execution_count": 23
        }
      ]
    },
    {
      "cell_type": "code",
      "source": [
        "p_test_data.shape"
      ],
      "metadata": {
        "id": "4RjM5dgwHn-6",
        "colab": {
          "base_uri": "https://localhost:8080/"
        },
        "outputId": "a1d381a4-0076-43aa-d9fa-329e21ac6aed"
      },
      "execution_count": null,
      "outputs": [
        {
          "output_type": "execute_result",
          "data": {
            "text/plain": [
              "(5000, 32, 32, 3)"
            ]
          },
          "metadata": {},
          "execution_count": 24
        }
      ]
    },
    {
      "cell_type": "markdown",
      "source": [
        "### 3"
      ],
      "metadata": {
        "id": "WmqdeWtHH6rC"
      }
    },
    {
      "cell_type": "code",
      "source": [
        "member_stat=target_model(p_train_data)"
      ],
      "metadata": {
        "id": "cIycNBWXH8Uq"
      },
      "execution_count": null,
      "outputs": []
    },
    {
      "cell_type": "code",
      "source": [
        "# This information is the \"attrubutes\" of member data\n",
        "member_stat"
      ],
      "metadata": {
        "id": "46_lxRjUICbL",
        "colab": {
          "base_uri": "https://localhost:8080/"
        },
        "outputId": "b34995d1-8f9b-48c3-e694-7496cf7c2b9f"
      },
      "execution_count": null,
      "outputs": [
        {
          "output_type": "execute_result",
          "data": {
            "text/plain": [
              "<tf.Tensor: shape=(10000, 10), dtype=float32, numpy=\n",
              "array([[ -8.09453   ,  -9.511581  ,   2.308946  , ...,   0.7989033 ,\n",
              "        -11.765329  , -14.546907  ],\n",
              "       [  1.4993261 ,  -1.5915823 ,   2.2405732 , ...,  -3.7230422 ,\n",
              "         -5.4061685 ,   9.783438  ],\n",
              "       [  1.2942592 ,   1.0332361 ,  -0.7563736 , ...,  -5.567007  ,\n",
              "         -7.7828164 ,   8.665651  ],\n",
              "       ...,\n",
              "       [  0.69104695,   7.2425804 ,  -4.5836205 , ...,  -4.4953585 ,\n",
              "          2.8515415 ,   7.202874  ],\n",
              "       [ -1.0489266 ,  10.469152  ,  -2.3504214 , ...,  -3.8080924 ,\n",
              "         -3.2119243 ,   3.6190464 ],\n",
              "       [ -4.1086407 ,  -7.4670677 ,   3.2689018 , ...,   6.2206845 ,\n",
              "        -11.102761  ,  -9.658786  ]], dtype=float32)>"
            ]
          },
          "metadata": {},
          "execution_count": 26
        }
      ]
    },
    {
      "cell_type": "code",
      "source": [
        "non_member_stat=target_model(p_test_data)"
      ],
      "metadata": {
        "id": "WwtcV_DdIXFT"
      },
      "execution_count": null,
      "outputs": []
    },
    {
      "cell_type": "code",
      "source": [
        "# This information is the \"attrubutes\" of member data\n",
        "non_member_stat"
      ],
      "metadata": {
        "id": "vaK3gRJ6Ids7",
        "colab": {
          "base_uri": "https://localhost:8080/"
        },
        "outputId": "97edb255-7ee2-470b-a5f0-6966df685dfc"
      },
      "execution_count": null,
      "outputs": [
        {
          "output_type": "execute_result",
          "data": {
            "text/plain": [
              "<tf.Tensor: shape=(5000, 10), dtype=float32, numpy=\n",
              "array([[ -1.7871485 ,  -5.1116824 ,  -1.3135241 , ...,  -9.017349  ,\n",
              "          3.2459524 ,  -4.4019    ],\n",
              "       [  6.0741    ,   3.6214423 ,  -5.7152243 , ...,  -8.691189  ,\n",
              "         11.031433  ,   1.1811364 ],\n",
              "       [  0.8379353 ,   3.4393337 ,  -5.3589616 , ...,  -2.32182   ,\n",
              "          3.0722766 ,   1.130228  ],\n",
              "       ...,\n",
              "       [ -3.689346  ,  -5.9777665 ,  -3.7441618 , ...,  -1.4427079 ,\n",
              "         -5.288816  ,  -2.697714  ],\n",
              "       [-14.829874  ,  -8.71036   ,   3.8072836 , ...,   0.63230956,\n",
              "        -10.641227  , -12.714217  ],\n",
              "       [  1.2543784 ,  15.432904  ,  -4.1131434 , ..., -12.167717  ,\n",
              "         -8.198457  ,   5.549427  ]], dtype=float32)>"
            ]
          },
          "metadata": {},
          "execution_count": 28
        }
      ]
    },
    {
      "cell_type": "markdown",
      "source": [
        "## 4 Knowledge we have now\n",
        "### A binary dataset with the form:\n",
        "\n",
        "### {Member_stat:1, Non-member_stat:0}"
      ],
      "metadata": {
        "id": "rEXaPfECIWqL"
      }
    },
    {
      "cell_type": "markdown",
      "source": [
        "## 5 Attack process: use the knowledge to train a BINARY classisier MIA\n",
        "\n",
        "### MIA(x)={0, 1}\n",
        "\n",
        "### MIA(X)=[0,0,0,0,1,1,1,1........0,1,0,1,0,1]"
      ],
      "metadata": {
        "id": "mu_weO6VJZNV"
      }
    },
    {
      "cell_type": "code",
      "source": [
        "# Your Attack code produce your MIA attack model\n",
        "# Attack code\n",
        "def normalize(lst):\n",
        "  for item in lst:\n",
        "    minval = min(item)\n",
        "    maxval = max(item)\n",
        "    for i in range(len(item)):\n",
        "      item[i] = (item[i] - minval)/(maxval-minval)\n",
        "  return lst\n",
        "\n",
        "def calculate_threshold(lst):\n",
        "  sum = 0\n",
        "  totalsum = 0\n",
        "  diffsum = 0\n",
        "  for item in lst:\n",
        "    maxval = max(item)\n",
        "    sum = 0\n",
        "    for i in range(len(item)):\n",
        "      sum += maxval - item[i]\n",
        "    totalsum += sum/len(item)\n",
        "\n",
        "  threshold = totalsum/len(lst)\n",
        "  return threshold\n",
        "\n",
        "members_data = member_stat.numpy()\n",
        "\n",
        "members_data = normalize(members_data)\n",
        "\n",
        "non_members_data = non_member_stat.numpy()\n",
        "\n",
        "non_members_data = normalize(non_members_data)\n",
        "\n",
        "members_threshold = calculate_threshold(members_data)\n",
        "\n",
        "non_members_threshold = calculate_threshold(non_members_data)\n",
        "print(members_threshold)\n",
        "\n",
        "print(non_members_threshold)"
      ],
      "metadata": {
        "id": "rBGIXP9SJNMs",
        "colab": {
          "base_uri": "https://localhost:8080/"
        },
        "outputId": "be7f846b-0e3b-4140-8b48-8aad4adc073b"
      },
      "execution_count": null,
      "outputs": [
        {
          "output_type": "stream",
          "name": "stdout",
          "text": [
            "0.5471832224637251\n",
            "0.5423435038530824\n"
          ]
        }
      ]
    },
    {
      "cell_type": "code",
      "source": [
        "def MIA(data):\n",
        "  predictions = target_model(data)\n",
        "  predictions = predictions.numpy()\n",
        "  predictions = normalize(predictions)\n",
        "  sum = 0\n",
        "  ans = []\n",
        "  for tp in predictions:\n",
        "    maxval = max(tp)\n",
        "    sum = 0\n",
        "    for i in range(len(tp)):\n",
        "      sum += maxval - tp[i]\n",
        "    sum /= len(tp)\n",
        "    if(sum >= non_members_threshold):\n",
        "      ans.append(1)\n",
        "    else:\n",
        "      ans.append(0)\n",
        "  return ans"
      ],
      "metadata": {
        "id": "eMRIcnh9gqyZ"
      },
      "execution_count": null,
      "outputs": []
    },
    {
      "cell_type": "markdown",
      "source": [
        "## 6 Evaluate your MIA attack model\n",
        "\n",
        "### We provide \"test_member_data.npy\" and \"test_non-member_data.npy\""
      ],
      "metadata": {
        "id": "bedE5N02KNvb"
      }
    },
    {
      "cell_type": "markdown",
      "source": [
        "Evaluating test member data"
      ],
      "metadata": {
        "id": "5D3KtQYtjgnD"
      }
    },
    {
      "cell_type": "code",
      "source": [
        "test_member_data = np.load(\"./test_member_data.npy\")\n",
        "test_member_result = MIA(test_member_data)\n",
        "\n",
        "ones = 0\n",
        "for x in test_member_result:\n",
        "  if(x == 1):\n",
        "    ones += 1\n",
        "accuracy = (ones/len(test_member_result))*100\n",
        "print(accuracy)"
      ],
      "metadata": {
        "colab": {
          "base_uri": "https://localhost:8080/"
        },
        "id": "i-i3yL8RiCVJ",
        "outputId": "912dda8f-aacb-405a-8e97-749a1075634b"
      },
      "execution_count": 44,
      "outputs": [
        {
          "output_type": "stream",
          "name": "stdout",
          "text": [
            "50.6\n"
          ]
        }
      ]
    },
    {
      "cell_type": "markdown",
      "source": [
        "Evaluating non member data"
      ],
      "metadata": {
        "id": "IsOayeBIjkBB"
      }
    },
    {
      "cell_type": "code",
      "source": [
        "test_non_member_data = np.load(\"./test_Nonmember_data.npy\")\n",
        "test_non_member_result = MIA(test_non_member_data)\n",
        "\n",
        "zeros = 0\n",
        "for x in test_non_member_result:\n",
        "  if(x == 0):\n",
        "    zeros += 1\n",
        "accuracy = (zeros/len(test_non_member_result))*100\n",
        "print(accuracy)"
      ],
      "metadata": {
        "colab": {
          "base_uri": "https://localhost:8080/"
        },
        "id": "h3WGlBr3jfZ-",
        "outputId": "8e4dbbd7-16e9-46ca-c5a3-4f3a09f8b59b"
      },
      "execution_count": 43,
      "outputs": [
        {
          "output_type": "stream",
          "name": "stdout",
          "text": [
            "53.0\n"
          ]
        }
      ]
    },
    {
      "cell_type": "markdown",
      "source": [
        "## 7 How do we grade your model?"
      ],
      "metadata": {
        "id": "eLZ8NNqmKs1K"
      }
    },
    {
      "cell_type": "code",
      "source": [
        "# You need to load the evaluation data\n",
        "eval_data=np.load(\"./evaluation_data.npy\")"
      ],
      "metadata": {
        "id": "JP6QsYFhKUqi"
      },
      "execution_count": null,
      "outputs": []
    },
    {
      "cell_type": "code",
      "source": [
        "# Infer the membership of evaluation data by your MIA model\n",
        "Your_evaluation_result=MIA(eval_data)"
      ],
      "metadata": {
        "id": "riGiyXR2LXJD"
      },
      "execution_count": null,
      "outputs": []
    },
    {
      "cell_type": "markdown",
      "source": [
        "Saving result to .npy file"
      ],
      "metadata": {
        "id": "0uDE3NufkFzU"
      }
    },
    {
      "cell_type": "code",
      "source": [
        "np.save(\"BhargavMuppalla_evaluation_result.npy\",Your_evaluation_result)"
      ],
      "metadata": {
        "id": "Cm2K8ETUkKv9"
      },
      "execution_count": 46,
      "outputs": []
    },
    {
      "cell_type": "markdown",
      "source": [
        "### 7a The evaluation result should be the form of [0,0,0,0,1,1,1,1........0,1,0,1,0,1]\n",
        "### 7b The length of result is equal to length of evaluation dataset"
      ],
      "metadata": {
        "id": "J1lGxJBuLtvz"
      }
    },
    {
      "cell_type": "markdown",
      "source": [
        "### 7c We compare your evaluation result and our ground truth membership\n",
        "\n",
        "### Calculate your MIA accuracy"
      ],
      "metadata": {
        "id": "M4SuT-G8MAub"
      }
    },
    {
      "cell_type": "code",
      "source": [
        "MIA_accuracy=sum(Your_evaluation_result==Ground_truth_membership)/len(eval_data)"
      ],
      "metadata": {
        "id": "PSeUBzTKLtYb",
        "colab": {
          "base_uri": "https://localhost:8080/",
          "height": 169
        },
        "outputId": "8448b664-98eb-49af-e79c-b7f7a657e58d"
      },
      "execution_count": null,
      "outputs": [
        {
          "output_type": "error",
          "ename": "NameError",
          "evalue": "ignored",
          "traceback": [
            "\u001b[0;31m---------------------------------------------------------------------------\u001b[0m",
            "\u001b[0;31mNameError\u001b[0m                                 Traceback (most recent call last)",
            "\u001b[0;32m<ipython-input-33-fc8c2f614ba6>\u001b[0m in \u001b[0;36m<module>\u001b[0;34m\u001b[0m\n\u001b[0;32m----> 1\u001b[0;31m \u001b[0mMIA_accuracy\u001b[0m\u001b[0;34m=\u001b[0m\u001b[0msum\u001b[0m\u001b[0;34m(\u001b[0m\u001b[0mYour_evaluation_result\u001b[0m\u001b[0;34m==\u001b[0m\u001b[0mGround_truth_membership\u001b[0m\u001b[0;34m)\u001b[0m\u001b[0;34m/\u001b[0m\u001b[0mlen\u001b[0m\u001b[0;34m(\u001b[0m\u001b[0meval_data\u001b[0m\u001b[0;34m)\u001b[0m\u001b[0;34m\u001b[0m\u001b[0;34m\u001b[0m\u001b[0m\n\u001b[0m",
            "\u001b[0;31mNameError\u001b[0m: name 'Ground_truth_membership' is not defined"
          ]
        }
      ]
    }
  ]
}